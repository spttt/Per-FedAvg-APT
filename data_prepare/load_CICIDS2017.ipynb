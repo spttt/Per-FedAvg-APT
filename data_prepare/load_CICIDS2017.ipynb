{
 "cells": [
  {
   "cell_type": "markdown",
   "metadata": {},
   "source": [
    "## Decompress the zip package and preprocess the csv file."
   ]
  },
  {
   "cell_type": "code",
   "execution_count": 16,
   "metadata": {},
   "outputs": [],
   "source": [
    "Dataset_path_CICIDS_2017 = 'data_raw/CICIDS2017'\n",
    "\n",
    "import os\n",
    "file_zip = os.path.join(Dataset_path_CICIDS_2017, 'GeneratedLabelledFlows.zip')\n",
    "assert os.path.exists(file_zip)\n"
   ]
  },
  {
   "cell_type": "code",
   "execution_count": 17,
   "metadata": {},
   "outputs": [],
   "source": [
    "\n",
    "import zipfile\n",
    "file_out = os.path.join(Dataset_path_CICIDS_2017, 'GeneratedLabelledFlows')\n",
    "if not os.path.exists(file_out):\n",
    "    with zipfile.ZipFile(file_zip) as zf:\n",
    "        zf.extractall(file_out)\n",
    "\n",
    "assert os.path.exists(os.path.join(Dataset_path_CICIDS_2017,'GeneratedLabelledFlows/TrafficLabelling /Monday-WorkingHours.pcap_ISCX.csv'))"
   ]
  },
  {
   "cell_type": "code",
   "execution_count": 18,
   "metadata": {},
   "outputs": [
    {
     "name": "stderr",
     "output_type": "stream",
     "text": [
      "/home/jinke_cheng/anaconda3/envs/PerFedAvg/lib/python3.7/site-packages/ipykernel_launcher.py:18: DtypeWarning: Columns (0,1,3,6,84) have mixed types.Specify dtype option on import or set low_memory=False.\n"
     ]
    },
    {
     "data": {
      "text/plain": [
       "(3119345, 85)"
      ]
     },
     "execution_count": 18,
     "metadata": {},
     "output_type": "execute_result"
    }
   ],
   "source": [
    "import os\n",
    "import pandas as pd\n",
    "\n",
    "csv_path = os.path.join(Dataset_path_CICIDS_2017,\n",
    "                        'GeneratedLabelledFlows/TrafficLabelling /')\n",
    "\n",
    "CICIDS2017_csv_name = [\n",
    "    'Monday-WorkingHours.pcap_ISCX.csv',\n",
    "    'Tuesday-WorkingHours.pcap_ISCX.csv',\n",
    "    'Wednesday-workingHours.pcap_ISCX.csv',\n",
    "    'Thursday-WorkingHours-Morning-WebAttacks.pcap_ISCX.csv',\n",
    "    'Thursday-WorkingHours-Afternoon-Infilteration.pcap_ISCX.csv',\n",
    "    'Friday-WorkingHours-Morning.pcap_ISCX.csv',\n",
    "    'Friday-WorkingHours-Afternoon-DDos.pcap_ISCX.csv',\n",
    "    'Friday-WorkingHours-Afternoon-PortScan.pcap_ISCX.csv'\n",
    "]\n",
    "\n",
    "CICIDS2017_csv = [pd.read_csv(os.path.join(csv_path, csv_name), encoding='cp1252') for csv_name in CICIDS2017_csv_name]\n",
    "\n",
    "X_all = pd.concat(CICIDS2017_csv)\n",
    "X_all.shape"
   ]
  },
  {
   "cell_type": "code",
   "execution_count": 19,
   "metadata": {},
   "outputs": [
    {
     "data": {
      "text/plain": [
       "((3119345, 83), (3119345,))"
      ]
     },
     "execution_count": 19,
     "metadata": {},
     "output_type": "execute_result"
    }
   ],
   "source": [
    "X_all = X_all.reset_index(drop=True)\n",
    "X_all = X_all.drop(labels=[' Fwd Header Length'], axis=1)\n",
    "\n",
    "X_all.columns = ['Flow ID', 'Src IP', 'Src Port', 'Dst IP', 'Dst Port', 'Protocol', 'Timestamp', 'Flow Duration', 'Total Fwd Packet', 'Total Bwd packets', 'Total Length of Fwd Packet', 'Total Length of Bwd Packet', 'Fwd Packet Length Max', 'Fwd Packet Length Min', 'Fwd Packet Length Mean', 'Fwd Packet Length Std', 'Bwd Packet Length Max', 'Bwd Packet Length Min', 'Bwd Packet Length Mean', 'Bwd Packet Length Std', 'Flow Bytes/s', 'Flow Packets/s', 'Flow IAT Mean', 'Flow IAT Std', 'Flow IAT Max', 'Flow IAT Min', 'Fwd IAT Total', 'Fwd IAT Mean', 'Fwd IAT Std', 'Fwd IAT Max', 'Fwd IAT Min', 'Bwd IAT Total', 'Bwd IAT Mean', 'Bwd IAT Std', 'Bwd IAT Max', 'Bwd IAT Min', 'Fwd PSH Flags', 'Bwd PSH Flags', 'Fwd URG Flags', 'Bwd URG Flags', 'Fwd Header Length', 'Bwd Header Length', 'Fwd Packets/s', 'Bwd Packets/s', 'Packet Length Min', 'Packet Length Max', 'Packet Length Mean', 'Packet Length Std', 'Packet Length Variance', 'FIN Flag Count', 'SYN Flag Count', 'RST Flag Count', 'PSH Flag Count', 'ACK Flag Count', 'URG Flag Count', 'CWR Flag Count', 'ECE Flag Count', 'Down/Up Ratio', 'Average Packet Size', 'Fwd Segment Size Avg', 'Bwd Segment Size Avg', 'Fwd Bytes/Bulk Avg', 'Fwd Packet/Bulk Avg', 'Fwd Bulk Rate Avg', 'Bwd Bytes/Bulk Avg', 'Bwd Packet/Bulk Avg', 'Bwd Bulk Rate Avg', 'Subflow Fwd Packets', 'Subflow Fwd Bytes', 'Subflow Bwd Packets', 'Subflow Bwd Bytes', 'FWD Init Win Bytes', 'Bwd Init Win Bytes', 'Fwd Act Data Pkts', 'Fwd Seg Size Min', 'Active Mean', 'Active Std', 'Active Max', 'Active Min', 'Idle Mean', 'Idle Std', 'Idle Max', 'Idle Min', 'Activity']\n",
    "\n",
    "y = X_all.pop('Activity')\n",
    "X_all.shape, y.shape"
   ]
  },
  {
   "cell_type": "code",
   "execution_count": 20,
   "metadata": {},
   "outputs": [
    {
     "data": {
      "text/plain": [
       "0.0     2273097\n",
       "3.0      231073\n",
       "14.0     158930\n",
       "13.0     128027\n",
       "4.0       10293\n",
       "1.0        7938\n",
       "2.0        5897\n",
       "5.0        5796\n",
       "6.0        5499\n",
       "12.0       1966\n",
       "8.0        1507\n",
       "9.0         652\n",
       "11.0         36\n",
       "10.0         21\n",
       "7.0          11\n",
       "Name: Activity, dtype: int64"
      ]
     },
     "execution_count": 20,
     "metadata": {},
     "output_type": "execute_result"
    }
   ],
   "source": [
    "\n",
    "replacement_mapping_dict = {'BENIGN': 0,\n",
    "                            'FTP-Patator': 1,\n",
    "                            'SSH-Patator': 2,\n",
    "                            'DoS Hulk': 3,\n",
    "                            'DoS GoldenEye': 4,\n",
    "                            'DoS slowloris': 5,\n",
    "                            'DoS Slowhttptest': 6,\n",
    "                            'Heartbleed': 7,\n",
    "                            'Web Attack – Brute Force': 8,\n",
    "                            'Web Attack – XSS': 9,\n",
    "                            'Web Attack – Sql Injection': 10,\n",
    "                            'Infiltration': 11,\n",
    "                            'Bot': 12,\n",
    "                            'DDoS': 13,\n",
    "                            'PortScan': 14,\n",
    "                            }\n",
    "y = y.replace(replacement_mapping_dict, regex=True)\n",
    "pd.Series(y).value_counts()\n"
   ]
  },
  {
   "cell_type": "code",
   "execution_count": 21,
   "metadata": {},
   "outputs": [
    {
     "data": {
      "text/plain": [
       "(3119345, 66)"
      ]
     },
     "execution_count": 21,
     "metadata": {},
     "output_type": "execute_result"
    }
   ],
   "source": [
    "XY_ALL = pd.concat([X_all, y], axis=1)\n",
    "XY_ALL = XY_ALL.drop(labels=['Flow ID', 'Src IP', 'Src Port',\n",
    "                           'Dst IP', 'Dst Port', 'Timestamp'], axis=1)\n",
    "\n",
    "XY_ALL = XY_ALL.drop(labels=['Fwd PSH Flags',\n",
    "                           'Fwd URG Flags',\n",
    "                           'Bwd URG Flags',\n",
    "                           'URG Flag Count',\n",
    "                           'Fwd Bytes/Bulk Avg',\n",
    "                           'Fwd Packet/Bulk Avg',\n",
    "                           'Fwd Bulk Rate Avg',\n",
    "                           'Bwd Bytes/Bulk Avg',\n",
    "                           'Bwd Packet/Bulk Avg',\n",
    "                           'Bwd Bulk Rate Avg',\n",
    "                           'FWD Init Win Bytes',\n",
    "                           'Fwd Seg Size Min',\n",
    "                           ],\n",
    "                   axis=1)\n",
    "XY_ALL.shape"
   ]
  },
  {
   "cell_type": "code",
   "execution_count": 22,
   "metadata": {},
   "outputs": [
    {
     "data": {
      "text/plain": [
       "(3119345, 66)"
      ]
     },
     "execution_count": 22,
     "metadata": {},
     "output_type": "execute_result"
    }
   ],
   "source": [
    "XY_ALL.shape\n"
   ]
  },
  {
   "cell_type": "code",
   "execution_count": 23,
   "metadata": {},
   "outputs": [
    {
     "data": {
      "text/plain": [
       "(2827876, 66)"
      ]
     },
     "execution_count": 23,
     "metadata": {},
     "output_type": "execute_result"
    }
   ],
   "source": [
    "import numpy as np\n",
    "\n",
    "where_nan = np.where(np.isnan(XY_ALL))[0]\n",
    "where_inf = np.where(XY_ALL.values >= np.finfo(np.float64).max)[0]\n",
    "where_bad = np.unique(np.concatenate((where_nan, where_inf)))\n",
    "XY_all = XY_ALL.drop(index = where_bad)\n",
    "\n",
    "XY_all.to_csv(os.path.join(Dataset_path_CICIDS_2017, \"CICIDS2017_pre_all_noInf.csv\"), index=None)\n",
    "XY_all.shape"
   ]
  },
  {
   "cell_type": "markdown",
   "metadata": {},
   "source": [
    "## Data splitting"
   ]
  },
  {
   "cell_type": "code",
   "execution_count": 24,
   "metadata": {},
   "outputs": [],
   "source": [
    "import os\n",
    "Dataset_path_CICIDS_2017 = 'data_raw/CICIDS2017'\n",
    "args_dataset_root = \"data_div/CICIDS2017\"\n",
    "\n",
    "if not os.path.exists(args_dataset_root):\n",
    "    os.makedirs(args_dataset_root)\n",
    "    os.makedirs(os.path.join(args_dataset_root, 'train'))\n",
    "    os.makedirs(os.path.join(args_dataset_root, 'test'))\n"
   ]
  },
  {
   "cell_type": "code",
   "execution_count": 25,
   "metadata": {},
   "outputs": [],
   "source": [
    "import pandas as pd\n",
    "\n",
    "XY_all = pd.read_csv(os.path.join(Dataset_path_CICIDS_2017, \"CICIDS2017_pre_all_noInf.csv\"))"
   ]
  },
  {
   "cell_type": "code",
   "execution_count": 26,
   "metadata": {},
   "outputs": [],
   "source": [
    "known_lable = [1, 2, 3, 4, 5, 6, 8, 13, 14]\n",
    "train_lable = [0] + known_lable\n",
    "test_lable = [9, 10, 11, 12]\n",
    "\n",
    "XY_012345681314 = XY_all.loc[XY_all['Activity'].isin(train_lable)]\n",
    "XY_9101112 = XY_all.loc[XY_all['Activity'].isin(test_lable)]"
   ]
  },
  {
   "cell_type": "code",
   "execution_count": 27,
   "metadata": {},
   "outputs": [],
   "source": [
    "from sklearn.model_selection import train_test_split\n",
    "\n",
    "\n",
    "def train_test_split_pop_and_concat(XY, Y=None, pop_c=None, train_size=0.8, random_state=0, return4=True):\n",
    "    if pop_c:\n",
    "        Y = XY.pop(pop_c)\n",
    "    X_train, X_test, Y_train, Y_test = train_test_split(XY, Y, train_size=train_size, stratify=Y, random_state=random_state)  # shuffle=False\n",
    "    if return4:\n",
    "        return X_train, X_test, Y_train, Y_test\n",
    "    else:\n",
    "        XY_train = pd.concat([X_train, Y_train], axis=1)\n",
    "        XY_test = pd.concat([X_test, Y_test], axis=1)\n",
    "        return XY_train, XY_test\n"
   ]
  },
  {
   "cell_type": "code",
   "execution_count": 28,
   "metadata": {},
   "outputs": [],
   "source": [
    "XY_012345681314_train, XY_012345681314_test = train_test_split_pop_and_concat(XY_012345681314, pop_c='Activity', train_size=0.66, return4=False)\n"
   ]
  },
  {
   "cell_type": "code",
   "execution_count": 29,
   "metadata": {},
   "outputs": [
    {
     "data": {
      "text/plain": [
       "((1864632, 66), (960568, 66))"
      ]
     },
     "execution_count": 29,
     "metadata": {},
     "output_type": "execute_result"
    }
   ],
   "source": [
    "XY_012345681314_train.shape, XY_012345681314_test.shape # 2528845\t6\t5063650"
   ]
  },
  {
   "cell_type": "code",
   "execution_count": 30,
   "metadata": {},
   "outputs": [],
   "source": [
    "def sample_dataframe(df_all, number):\n",
    "    df_sample = df_all.sample(min(number, df_all.shape[0]))  # 不够number了就全取出来\n",
    "    df_remain = df_all.drop(df_sample.index, axis=0)\n",
    "    return df_sample, df_remain"
   ]
  },
  {
   "cell_type": "markdown",
   "metadata": {},
   "source": [
    "## train clinet data generation"
   ]
  },
  {
   "cell_type": "code",
   "execution_count": 31,
   "metadata": {},
   "outputs": [
    {
     "data": {
      "text/plain": [
       "0.0     1499071\n",
       "3.0      151882\n",
       "14.0     104811\n",
       "13.0      84497\n",
       "4.0        6793\n",
       "1.0        5237\n",
       "2.0        3892\n",
       "5.0        3825\n",
       "6.0        3629\n",
       "8.0         995\n",
       "Name: Activity, dtype: int64"
      ]
     },
     "execution_count": 31,
     "metadata": {},
     "output_type": "execute_result"
    }
   ],
   "source": [
    "XY_train = XY_012345681314_train\n",
    "pd.Series(XY_train['Activity']).value_counts()"
   ]
  },
  {
   "cell_type": "code",
   "execution_count": 32,
   "metadata": {},
   "outputs": [],
   "source": [
    "import random\n",
    "for clint_num in range(400):\n",
    "    clint_content = pd.DataFrame()\n",
    "\n",
    "    indexsample = random.sample(train_lable, 5)\n",
    "    for index in indexsample:\n",
    "        index_content = XY_train.loc[XY_train['Activity'] == index]\n",
    "        index_content_sample = index_content.sample(15, replace=True)  # 每次运行sample的是不一样的\n",
    "        clint_content = clint_content.append(index_content_sample)\n",
    "\n",
    "    path = os.path.join(args_dataset_root, \"train\", str(clint_num) + \".csv\")\n",
    "    clint_content.to_csv(path)"
   ]
  },
  {
   "cell_type": "markdown",
   "metadata": {},
   "source": [
    "## test client data generation"
   ]
  },
  {
   "cell_type": "code",
   "execution_count": 33,
   "metadata": {},
   "outputs": [
    {
     "data": {
      "text/plain": [
       "0.0     772249\n",
       "3.0      78242\n",
       "14.0     53993\n",
       "13.0     43528\n",
       "4.0       3500\n",
       "1.0       2698\n",
       "2.0       2005\n",
       "5.0       1971\n",
       "12.0      1956\n",
       "6.0       1870\n",
       "9.0        652\n",
       "8.0        512\n",
       "11.0        36\n",
       "10.0        21\n",
       "Name: Activity, dtype: int64"
      ]
     },
     "execution_count": 33,
     "metadata": {},
     "output_type": "execute_result"
    }
   ],
   "source": [
    "XY_test = pd.concat([XY_012345681314_test, XY_9101112], axis=0)\n",
    "pd.Series(XY_test['Activity']).value_counts()"
   ]
  },
  {
   "cell_type": "code",
   "execution_count": 34,
   "metadata": {},
   "outputs": [],
   "source": [
    "\n",
    "for unknown_class_number in range(5):\n",
    "    known_class_number = 5 - 1 - unknown_class_number\n",
    "    for clint_num in range(400+unknown_class_number*10, 400+unknown_class_number*10+10):\n",
    "        sample_lable = [0] + random.sample(known_lable, known_class_number) + random.sample(test_lable, unknown_class_number)\n",
    "        # print(clint_num, known_class_number, unknown_class_number, sample_lable)\n",
    "            \n",
    "        clint_content = pd.DataFrame()\n",
    "        for index in sample_lable:\n",
    "            index_content = XY_test.loc[XY_test['Activity'] == index]\n",
    "            index_content_sample, _ = sample_dataframe(index_content, 100)\n",
    "            clint_content = clint_content.append(index_content_sample)\n",
    "\n",
    "        path = os.path.join(args_dataset_root, \"test\", str(clint_num) + \".csv\")\n",
    "        clint_content.to_csv(path)"
   ]
  }
 ],
 "metadata": {
  "kernelspec": {
   "display_name": "Python 3.7.13 ('PerFedAvg')",
   "language": "python",
   "name": "python3"
  },
  "language_info": {
   "codemirror_mode": {
    "name": "ipython",
    "version": 3
   },
   "file_extension": ".py",
   "mimetype": "text/x-python",
   "name": "python",
   "nbconvert_exporter": "python",
   "pygments_lexer": "ipython3",
   "version": "3.7.13"
  },
  "orig_nbformat": 4,
  "vscode": {
   "interpreter": {
    "hash": "502e705fd87a34e060a6671e9d33006ea0b244d167629ed20a795fe5ef1324ab"
   }
  }
 },
 "nbformat": 4,
 "nbformat_minor": 2
}
