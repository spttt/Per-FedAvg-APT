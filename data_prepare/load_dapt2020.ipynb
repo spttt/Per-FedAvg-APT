{
 "cells": [
  {
   "cell_type": "markdown",
   "metadata": {},
   "source": [
    "## Data preprocessing and splitting"
   ]
  },
  {
   "cell_type": "code",
   "execution_count": 1,
   "metadata": {},
   "outputs": [],
   "source": [
    "import os\n",
    "Dataset_path_dapt_2020 = 'data_raw/dapt2020'\n",
    "args_dataset_root = \"data_div/dapt2020\"\n",
    "\n",
    "if not os.path.exists(args_dataset_root):\n",
    "    os.makedirs(args_dataset_root)\n",
    "    os.makedirs(os.path.join(args_dataset_root, 'train'))\n",
    "    os.makedirs(os.path.join(args_dataset_root, 'test'))\n",
    "\n",
    "dapt_2020_csv_name = ['enp0s3-monday.pcap_Flow.csv',\n",
    "                      'enp0s3-public-tuesday.pcap_Flow.csv',\n",
    "                      'enp0s3-public-wednesday.pcap_Flow.csv',\n",
    "                      'enp0s3-public-thursday.pcap_Flow.csv',\n",
    "                      'enp0s3-tcpdump-friday.pcap_Flow.csv',\n",
    "                      'enp0s3-monday-pvt.pcap_Flow.csv',\n",
    "                      'enp0s3-pvt-tuesday.pcap_Flow.csv',\n",
    "                      'enp0s3-pvt-wednesday.pcap_Flow.csv',\n",
    "                      'enp0s3-tcpdump-pvt-friday.pcap_Flow.csv']\n",
    "\n",
    "dapt_2020_csv_name2 = [\n",
    "    'enp0s3-pvt-thursday.pcap_Flow.csv',  # 缺少标题行\n",
    "]"
   ]
  },
  {
   "cell_type": "code",
   "execution_count": 2,
   "metadata": {},
   "outputs": [
    {
     "data": {
      "text/plain": [
       "(86691, 85)"
      ]
     },
     "execution_count": 2,
     "metadata": {},
     "output_type": "execute_result"
    }
   ],
   "source": [
    "import pandas as pd\n",
    "\n",
    "pd_list = []\n",
    "for csv_name in dapt_2020_csv_name:\n",
    "    csv_path = os.path.join(Dataset_path_dapt_2020, \"csv\", csv_name)\n",
    "    pd_list.append(pd.read_csv(csv_path))\n",
    "csv_path = os.path.join(Dataset_path_dapt_2020, \"csv\", dapt_2020_csv_name2[0])\n",
    "pd_one = pd.read_csv(csv_path, header=None)\n",
    "pd_one.columns = pd_list[0].columns\n",
    "pd_list.append(pd_one)\n",
    "\n",
    "XY_all = pd.concat(pd_list)\n",
    "XY_all.shape # (86691, 85)"
   ]
  },
  {
   "cell_type": "code",
   "execution_count": 3,
   "metadata": {},
   "outputs": [
    {
     "data": {
      "text/html": [
       "<div>\n",
       "<style scoped>\n",
       "    .dataframe tbody tr th:only-of-type {\n",
       "        vertical-align: middle;\n",
       "    }\n",
       "\n",
       "    .dataframe tbody tr th {\n",
       "        vertical-align: top;\n",
       "    }\n",
       "\n",
       "    .dataframe thead th {\n",
       "        text-align: right;\n",
       "    }\n",
       "</style>\n",
       "<table border=\"1\" class=\"dataframe\">\n",
       "  <thead>\n",
       "    <tr style=\"text-align: right;\">\n",
       "      <th></th>\n",
       "      <th>Protocol</th>\n",
       "      <th>Flow Duration</th>\n",
       "      <th>Total Fwd Packet</th>\n",
       "      <th>Total Bwd packets</th>\n",
       "      <th>Total Length of Fwd Packet</th>\n",
       "      <th>Total Length of Bwd Packet</th>\n",
       "      <th>Fwd Packet Length Max</th>\n",
       "      <th>Fwd Packet Length Min</th>\n",
       "      <th>Fwd Packet Length Mean</th>\n",
       "      <th>Fwd Packet Length Std</th>\n",
       "      <th>...</th>\n",
       "      <th>Active Mean</th>\n",
       "      <th>Active Std</th>\n",
       "      <th>Active Max</th>\n",
       "      <th>Active Min</th>\n",
       "      <th>Idle Mean</th>\n",
       "      <th>Idle Std</th>\n",
       "      <th>Idle Max</th>\n",
       "      <th>Idle Min</th>\n",
       "      <th>Activity</th>\n",
       "      <th>Stage</th>\n",
       "    </tr>\n",
       "  </thead>\n",
       "  <tbody>\n",
       "    <tr>\n",
       "      <th>0</th>\n",
       "      <td>6</td>\n",
       "      <td>4308182</td>\n",
       "      <td>11</td>\n",
       "      <td>21</td>\n",
       "      <td>728.0</td>\n",
       "      <td>408.0</td>\n",
       "      <td>192.0</td>\n",
       "      <td>0.0</td>\n",
       "      <td>66.181818</td>\n",
       "      <td>54.972390</td>\n",
       "      <td>...</td>\n",
       "      <td>0.0</td>\n",
       "      <td>0.000000e+00</td>\n",
       "      <td>0.0</td>\n",
       "      <td>0.0</td>\n",
       "      <td>0.0</td>\n",
       "      <td>0.000000</td>\n",
       "      <td>0.0</td>\n",
       "      <td>0.0</td>\n",
       "      <td>Normal</td>\n",
       "      <td>0</td>\n",
       "    </tr>\n",
       "    <tr>\n",
       "      <th>1</th>\n",
       "      <td>6</td>\n",
       "      <td>102319</td>\n",
       "      <td>3</td>\n",
       "      <td>5</td>\n",
       "      <td>87.0</td>\n",
       "      <td>148.0</td>\n",
       "      <td>87.0</td>\n",
       "      <td>0.0</td>\n",
       "      <td>29.000000</td>\n",
       "      <td>50.229473</td>\n",
       "      <td>...</td>\n",
       "      <td>0.0</td>\n",
       "      <td>0.000000e+00</td>\n",
       "      <td>0.0</td>\n",
       "      <td>0.0</td>\n",
       "      <td>0.0</td>\n",
       "      <td>0.000000</td>\n",
       "      <td>0.0</td>\n",
       "      <td>0.0</td>\n",
       "      <td>Normal</td>\n",
       "      <td>0</td>\n",
       "    </tr>\n",
       "    <tr>\n",
       "      <th>2</th>\n",
       "      <td>17</td>\n",
       "      <td>119674949</td>\n",
       "      <td>89</td>\n",
       "      <td>1</td>\n",
       "      <td>25803.0</td>\n",
       "      <td>289.0</td>\n",
       "      <td>296.0</td>\n",
       "      <td>288.0</td>\n",
       "      <td>289.921348</td>\n",
       "      <td>2.417854</td>\n",
       "      <td>...</td>\n",
       "      <td>0.0</td>\n",
       "      <td>0.000000e+00</td>\n",
       "      <td>0.0</td>\n",
       "      <td>0.0</td>\n",
       "      <td>0.0</td>\n",
       "      <td>0.000000</td>\n",
       "      <td>0.0</td>\n",
       "      <td>0.0</td>\n",
       "      <td>Normal</td>\n",
       "      <td>0</td>\n",
       "    </tr>\n",
       "    <tr>\n",
       "      <th>3</th>\n",
       "      <td>0</td>\n",
       "      <td>119999065</td>\n",
       "      <td>248</td>\n",
       "      <td>1</td>\n",
       "      <td>0.0</td>\n",
       "      <td>0.0</td>\n",
       "      <td>0.0</td>\n",
       "      <td>0.0</td>\n",
       "      <td>0.000000</td>\n",
       "      <td>0.000000</td>\n",
       "      <td>...</td>\n",
       "      <td>0.0</td>\n",
       "      <td>0.000000e+00</td>\n",
       "      <td>0.0</td>\n",
       "      <td>0.0</td>\n",
       "      <td>0.0</td>\n",
       "      <td>0.000000</td>\n",
       "      <td>0.0</td>\n",
       "      <td>0.0</td>\n",
       "      <td>Normal</td>\n",
       "      <td>0</td>\n",
       "    </tr>\n",
       "    <tr>\n",
       "      <th>4</th>\n",
       "      <td>6</td>\n",
       "      <td>110289343</td>\n",
       "      <td>19</td>\n",
       "      <td>16</td>\n",
       "      <td>1184.0</td>\n",
       "      <td>2216.0</td>\n",
       "      <td>296.0</td>\n",
       "      <td>0.0</td>\n",
       "      <td>62.315789</td>\n",
       "      <td>123.980757</td>\n",
       "      <td>...</td>\n",
       "      <td>840248.3</td>\n",
       "      <td>1.420618e+06</td>\n",
       "      <td>3937585.0</td>\n",
       "      <td>15535.0</td>\n",
       "      <td>10187129.3</td>\n",
       "      <td>67317.195083</td>\n",
       "      <td>10224606.0</td>\n",
       "      <td>10025811.0</td>\n",
       "      <td>Normal</td>\n",
       "      <td>0</td>\n",
       "    </tr>\n",
       "  </tbody>\n",
       "</table>\n",
       "<p>5 rows × 67 columns</p>\n",
       "</div>"
      ],
      "text/plain": [
       "   Protocol  Flow Duration  Total Fwd Packet  Total Bwd packets  \\\n",
       "0         6        4308182                11                 21   \n",
       "1         6         102319                 3                  5   \n",
       "2        17      119674949                89                  1   \n",
       "3         0      119999065               248                  1   \n",
       "4         6      110289343                19                 16   \n",
       "\n",
       "   Total Length of Fwd Packet  Total Length of Bwd Packet  \\\n",
       "0                       728.0                       408.0   \n",
       "1                        87.0                       148.0   \n",
       "2                     25803.0                       289.0   \n",
       "3                         0.0                         0.0   \n",
       "4                      1184.0                      2216.0   \n",
       "\n",
       "   Fwd Packet Length Max  Fwd Packet Length Min  Fwd Packet Length Mean  \\\n",
       "0                  192.0                    0.0               66.181818   \n",
       "1                   87.0                    0.0               29.000000   \n",
       "2                  296.0                  288.0              289.921348   \n",
       "3                    0.0                    0.0                0.000000   \n",
       "4                  296.0                    0.0               62.315789   \n",
       "\n",
       "   Fwd Packet Length Std  ...  Active Mean    Active Std  Active Max  \\\n",
       "0              54.972390  ...          0.0  0.000000e+00         0.0   \n",
       "1              50.229473  ...          0.0  0.000000e+00         0.0   \n",
       "2               2.417854  ...          0.0  0.000000e+00         0.0   \n",
       "3               0.000000  ...          0.0  0.000000e+00         0.0   \n",
       "4             123.980757  ...     840248.3  1.420618e+06   3937585.0   \n",
       "\n",
       "   Active Min   Idle Mean      Idle Std    Idle Max    Idle Min  Activity  \\\n",
       "0         0.0         0.0      0.000000         0.0         0.0    Normal   \n",
       "1         0.0         0.0      0.000000         0.0         0.0    Normal   \n",
       "2         0.0         0.0      0.000000         0.0         0.0    Normal   \n",
       "3         0.0         0.0      0.000000         0.0         0.0    Normal   \n",
       "4     15535.0  10187129.3  67317.195083  10224606.0  10025811.0    Normal   \n",
       "\n",
       "   Stage  \n",
       "0      0  \n",
       "1      0  \n",
       "2      0  \n",
       "3      0  \n",
       "4      0  \n",
       "\n",
       "[5 rows x 67 columns]"
      ]
     },
     "execution_count": 3,
     "metadata": {},
     "output_type": "execute_result"
    }
   ],
   "source": [
    "\n",
    "# X_all = X_all.drop(labels=['Flow ID', 'Src IP', 'Src Port',\n",
    "#                     'Dst IP', 'Dst Port', 'Timestamp', 'Activity'], axis=1)\n",
    "XY_all = XY_all.drop(labels=['Flow ID', 'Src IP', 'Src Port',\n",
    "                             'Dst IP', 'Dst Port', 'Timestamp'], axis=1)\n",
    "\n",
    "XY_all = XY_all.drop(labels=['Fwd PSH Flags',\n",
    "                             'Fwd URG Flags',\n",
    "                             'Bwd URG Flags',\n",
    "                             'URG Flag Count',\n",
    "                             'Fwd Bytes/Bulk Avg',\n",
    "                             'Fwd Packet/Bulk Avg',\n",
    "                             'Fwd Bulk Rate Avg',\n",
    "                             'Bwd Bytes/Bulk Avg',\n",
    "                             'Bwd Packet/Bulk Avg',\n",
    "                             'Bwd Bulk Rate Avg',\n",
    "                             'FWD Init Win Bytes',\n",
    "                             'Fwd Seg Size Min',\n",
    "                             ],\n",
    "                     axis=1)\n",
    "\n",
    "replacement_mapping_dict = {'Benign': 0, 'BENIGN': 0, 'Reconnaissance': 1,\n",
    "                            'Establish Foothold': 2, 'Lateral Movement': 3, 'Data Exfiltration': 4}\n",
    "XY_all['Stage'] = XY_all['Stage'].map(replacement_mapping_dict)\n",
    "XY_all.head()\n"
   ]
  },
  {
   "cell_type": "code",
   "execution_count": 4,
   "metadata": {},
   "outputs": [
    {
     "data": {
      "text/plain": [
       "(0    44598\n",
       " 1     8336\n",
       " 2     6023\n",
       " 3     1716\n",
       " Name: Stage, dtype: int64,\n",
       " 0    19114\n",
       " 1     3573\n",
       " 2     2581\n",
       " 3      735\n",
       " Name: Stage, dtype: int64)"
      ]
     },
     "execution_count": 4,
     "metadata": {},
     "output_type": "execute_result"
    }
   ],
   "source": [
    "from sklearn.model_selection import train_test_split\n",
    "\n",
    "XY_all_0123 = XY_all.loc[XY_all['Stage'] != 4]\n",
    "XY_all_4 = XY_all.loc[XY_all['Stage'] == 4]\n",
    "\n",
    "Y_all_0123 = XY_all_0123.pop('Stage')\n",
    "X_train, X_test, y_train, y_test = train_test_split(XY_all_0123, Y_all_0123, train_size = 0.7, stratify=Y_all_0123, random_state = 0) #shuffle=False\n",
    "pd.Series(y_train).value_counts(), pd.Series(y_test).value_counts() "
   ]
  },
  {
   "cell_type": "markdown",
   "metadata": {},
   "source": [
    "## train clinet data generation"
   ]
  },
  {
   "cell_type": "code",
   "execution_count": 5,
   "metadata": {},
   "outputs": [
    {
     "data": {
      "text/plain": [
       "Normal                    44598\n",
       "Directory Bruteforce       6985\n",
       "Network Scan               5429\n",
       "Web Vulnerability Scan     1781\n",
       "Account Discovery          1683\n",
       "Account Bruteforce          107\n",
       "SQL Injection                55\n",
       "Backdoor                     15\n",
       "Privilege Escalation          8\n",
       "Command Injection             8\n",
       "CSRF                          3\n",
       "Malware Download              1\n",
       "Name: Activity, dtype: int64"
      ]
     },
     "execution_count": 5,
     "metadata": {},
     "output_type": "execute_result"
    }
   ],
   "source": [
    "X_train.loc[X_train['Activity'] == 'BENIGN', 'Activity'] = 'Normal' # BENIGN Normal 统称 Normal\n",
    "Activity_counts = X_train['Activity'].value_counts()\n",
    "Activity_counts"
   ]
  },
  {
   "cell_type": "code",
   "execution_count": 6,
   "metadata": {},
   "outputs": [
    {
     "data": {
      "text/plain": [
       "['Normal',\n",
       " 'Directory Bruteforce',\n",
       " 'Network Scan',\n",
       " 'Web Vulnerability Scan',\n",
       " 'Account Discovery',\n",
       " 'Account Bruteforce',\n",
       " 'SQL Injection',\n",
       " 'Backdoor']"
      ]
     },
     "execution_count": 6,
     "metadata": {},
     "output_type": "execute_result"
    }
   ],
   "source": [
    "index_all = list(Activity_counts.index)\n",
    "for index in Activity_counts.index:\n",
    "    if(Activity_counts[index]<=10):\n",
    "        index_all.remove(index)\n",
    "index_all\n",
    "\n"
   ]
  },
  {
   "cell_type": "code",
   "execution_count": 7,
   "metadata": {},
   "outputs": [],
   "source": [
    "import random\n",
    "for clint_num in range(400):\n",
    "    clint_content = pd.DataFrame()\n",
    "\n",
    "    indexsample = random.sample(index_all, 5)\n",
    "    for index in indexsample:\n",
    "        index_content = X_train.loc[X_train['Activity'] == index]\n",
    "        index_content_sample = index_content.sample(15, replace=True)  # 每次运行sample的是不一样的\n",
    "        clint_content = clint_content.append(index_content_sample)\n",
    "\n",
    "    path = os.path.join(args_dataset_root, \"train\", str(clint_num)+\".csv\")\n",
    "    clint_content.to_csv(path)"
   ]
  },
  {
   "cell_type": "markdown",
   "metadata": {},
   "source": [
    "## test client data generation"
   ]
  },
  {
   "cell_type": "code",
   "execution_count": 8,
   "metadata": {},
   "outputs": [
    {
     "data": {
      "text/plain": [
       "0    19114\n",
       "1     3573\n",
       "2     2581\n",
       "3      735\n",
       "4       15\n",
       "Name: Stage, dtype: int64"
      ]
     },
     "execution_count": 8,
     "metadata": {},
     "output_type": "execute_result"
    }
   ],
   "source": [
    "XY_test_0123 = pd.concat([X_test, y_test], axis=1)\n",
    "XY_test = pd.concat([XY_test_0123, XY_all_4])\n",
    "XY_test = XY_test.drop(labels=['Activity'], axis=1)\n",
    "\n",
    "Stage_counts = XY_test['Stage'].value_counts()\n",
    "Stage_counts"
   ]
  },
  {
   "cell_type": "code",
   "execution_count": 9,
   "metadata": {},
   "outputs": [],
   "source": [
    "sample_number=[1235, 935, 835, 735, 15]\n",
    "for clint_num in range(400,410):\n",
    "    clint_content = pd.DataFrame()\n",
    "    \n",
    "    for index in range(5):\n",
    "        index_content = XY_test.loc[XY_test['Stage'] == index]\n",
    "        index_content_sample = index_content.sample(sample_number[index])\n",
    "        clint_content = clint_content.append(index_content_sample)\n",
    "\n",
    "    path = os.path.join(args_dataset_root, \"test\", str(clint_num)+\".csv\")\n",
    "    clint_content.to_csv(path)"
   ]
  }
 ],
 "metadata": {
  "kernelspec": {
   "display_name": "Python 3.7.13 ('PerFedAvg')",
   "language": "python",
   "name": "python3"
  },
  "language_info": {
   "codemirror_mode": {
    "name": "ipython",
    "version": 3
   },
   "file_extension": ".py",
   "mimetype": "text/x-python",
   "name": "python",
   "nbconvert_exporter": "python",
   "pygments_lexer": "ipython3",
   "version": "3.7.13"
  },
  "orig_nbformat": 4,
  "vscode": {
   "interpreter": {
    "hash": "39447745d90157fe3916062b49f46b320e45d395167f18d23bf941e6c1529fe9"
   }
  }
 },
 "nbformat": 4,
 "nbformat_minor": 2
}
